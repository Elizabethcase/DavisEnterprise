{
 "metadata": {
  "name": "",
  "signature": "sha256:86acc2a6ed86fc7683e78207b6aa4d00a15a9373a5dd4120cc1bf2cd95fc1271"
 },
 "nbformat": 3,
 "nbformat_minor": 0,
 "worksheets": [
  {
   "cells": [
    {
     "cell_type": "code",
     "collapsed": true,
     "input": [
      "import pandas as pd\n",
      "import numpy as np\n",
      "import os\n",
      "\n",
      "%pylab inline"
     ],
     "language": "python",
     "metadata": {},
     "outputs": [
      {
       "output_type": "stream",
       "stream": "stdout",
       "text": [
        "Populating the interactive namespace from numpy and matplotlib\n"
       ]
      }
     ],
     "prompt_number": 55
    },
    {
     "cell_type": "code",
     "collapsed": true,
     "input": [
      "current = os.getcwd()\n",
      "print current\n",
      "\n",
      "if current != '/Users/elizabeth/Documents/Davis_Enterprise/Data':\n",
      "    os.chdir('/Users/elizabeth/Documents/Davis_Enterprise/Data')\n",
      "    \n"
     ],
     "language": "python",
     "metadata": {},
     "outputs": [
      {
       "output_type": "stream",
       "stream": "stdout",
       "text": [
        "/Users/elizabeth/Documents/Davis_Enterprise/Data\n"
       ]
      }
     ],
     "prompt_number": 51
    },
    {
     "cell_type": "code",
     "collapsed": false,
     "input": [
      "#sets the file name\n",
      "f = 'Daviswells.csv'\n",
      "\n",
      "#reads in the data\n",
      "davis_wells = pd.read_csv(f)\n",
      "\n",
      "#sorts the data by well_number and month\n",
      "davis_wells = davis_wells.sort(['well_number', 'month'])\n",
      "\n",
      "#adds a new column with the change in the Depth-to-Water value: \n",
      "#previous month-year - current month-year, i.e. April 2007 - April 2008 value\n",
      "davis_wells['change'] = davis_wells.depth_to_water.shift(1) - davis_wells.depth_to_water\n",
      "\n",
      "#delete the \"\\#\" sign to print the data\n",
      "#print davis_wells"
     ],
     "language": "python",
     "metadata": {},
     "outputs": [],
     "prompt_number": 150
    },
    {
     "cell_type": "code",
     "collapsed": true,
     "input": [
      "davis_wells.to_csv('davis_wells_change.csv', na_rep = \"NaN\", index = False)"
     ],
     "language": "python",
     "metadata": {},
     "outputs": [],
     "prompt_number": 148
    }
   ],
   "metadata": {}
  }
 ]
}